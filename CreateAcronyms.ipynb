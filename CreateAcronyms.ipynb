{
  "nbformat": 4,
  "nbformat_minor": 0,
  "metadata": {
    "colab": {
      "provenance": [],
      "authorship_tag": "ABX9TyNnktoqD66lGLhNoeC3aBw0",
      "include_colab_link": true
    },
    "kernelspec": {
      "name": "python3",
      "display_name": "Python 3"
    },
    "language_info": {
      "name": "python"
    }
  },
  "cells": [
    {
      "cell_type": "markdown",
      "metadata": {
        "id": "view-in-github",
        "colab_type": "text"
      },
      "source": [
        "<a href=\"https://colab.research.google.com/github/flexinJ/pythonProjects/blob/main/CreateAcronyms.ipynb\" target=\"_parent\"><img src=\"https://colab.research.google.com/assets/colab-badge.svg\" alt=\"Open In Colab\"/></a>"
      ]
    },
    {
      "cell_type": "code",
      "source": [
        "def CreateAcronyms(text):\n",
        "  result = str()\n",
        "  split = text.split()\n",
        "  for i in split:\n",
        "      result = result + str(i[0]).upper()\n",
        "  return print(result)"
      ],
      "metadata": {
        "id": "6BBZsOQwJ20_"
      },
      "execution_count": 22,
      "outputs": []
    },
    {
      "cell_type": "code",
      "source": [
        "CreateAcronyms(\"Hello World!\")"
      ],
      "metadata": {
        "colab": {
          "base_uri": "https://localhost:8080/"
        },
        "id": "fEwa3oxFKZb5",
        "outputId": "6fb31732-c79e-47a2-9762-85af0b2e0ccb"
      },
      "execution_count": 23,
      "outputs": [
        {
          "output_type": "stream",
          "name": "stdout",
          "text": [
            "HW\n"
          ]
        }
      ]
    }
  ]
}