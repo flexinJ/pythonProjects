{
  "nbformat": 4,
  "nbformat_minor": 0,
  "metadata": {
    "colab": {
      "provenance": [],
      "authorship_tag": "ABX9TyMOdhXHII8yTtWTnBuMEIMo",
      "include_colab_link": true
    },
    "kernelspec": {
      "name": "python3",
      "display_name": "Python 3"
    },
    "language_info": {
      "name": "python"
    }
  },
  "cells": [
    {
      "cell_type": "markdown",
      "metadata": {
        "id": "view-in-github",
        "colab_type": "text"
      },
      "source": [
        "<a href=\"https://colab.research.google.com/github/flexinJ/pythonProjects/blob/main/EmailSlicer.ipynb\" target=\"_parent\"><img src=\"https://colab.research.google.com/assets/colab-badge.svg\" alt=\"Open In Colab\"/></a>"
      ]
    },
    {
      "cell_type": "code",
      "execution_count": 6,
      "metadata": {
        "id": "jwFz1SFdQ976"
      },
      "outputs": [],
      "source": [
        "def EmailSlicer(email):\n",
        "  format = email.strip()\n",
        "  user = format[:format.index(\"@\")]\n",
        "  domain = format[format.index(\"@\")+1:]\n",
        "  return print(f\"user: {user}, domain: {domain}\")"
      ]
    },
    {
      "cell_type": "code",
      "source": [
        "EmailSlicer(\"helloworld@python.com\")"
      ],
      "metadata": {
        "colab": {
          "base_uri": "https://localhost:8080/"
        },
        "id": "E43PoscuRees",
        "outputId": "956422fb-88b2-4134-8bb5-a3788b92876f"
      },
      "execution_count": 7,
      "outputs": [
        {
          "output_type": "stream",
          "name": "stdout",
          "text": [
            "user: helloworld, domain: python.com\n"
          ]
        }
      ]
    }
  ]
}